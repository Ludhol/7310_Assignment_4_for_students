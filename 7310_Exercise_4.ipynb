{
 "cells": [
  {
   "cell_type": "markdown",
   "metadata": {},
   "source": [
    "# Basic Python Syntax and General Overview\n",
    "## 7310 Exercise 4\n",
    "\n",
    "This notebook forms the structure of Seminar 4 - where we used it to communicate the basics of Python. If you are reading this it means that you have succesfully installed python (programming language), pip (package manager for python) and jupyter notebooks. Well done - you're on your way to being a coder!\n",
    "\n",
    "For anyone wanting to learn more about coding - there are great resources online for all skill levels. \n",
    "An overview of introductory resources are found below here, https://wiki.python.org/moin/BeginnersGuide\n",
    "\n",
    "Once you are comfortable with the basic syntax of Python, the enormous amount of packages available for free will help you build more advanced programmes quickly.\n",
    "Good packages comes with documentation, which tell you what the package includes (which classes and functions) and how to use it.\n",
    "\n",
    "See for example pandas DataFrame documentation, https://pandas.pydata.org/docs/reference/frame.html  \n",
    "Or why not have a look at Pythons documentation for datastructures, https://docs.python.org/3/tutorial/datastructures.html \n",
    "\n",
    "In addition, you have community resources like https://stackoverflow.com, where coders help other coders with problems. If you describe your problem well in a google search it is common for a stackoverflow link to appear. Furthermore, googling error messages is a great way to understand what went wrong!\n",
    "\n",
    "### Structure of Exercise\n",
    "Below is a list of the concept that we are going to be exploring in this notebook\n",
    "\n",
    "1. Variables and Types and computations\n",
    "3. Data structures\n",
    "4. Loops\n",
    "5. Functions\n",
    "6. Pandas and other packages\n",
    "\n",
    "This exercise is going to warm us up for the Assignment - where we are going to predict stock prices with Machine Learning\n",
    "\n",
    "**Lets begin!**"
   ]
  },
  {
   "cell_type": "markdown",
   "metadata": {},
   "source": [
    "# Variables and types and computations\n",
    "A variable has two aspects to it, a name and a value. The name is used to call the value, and each value has a type.  \n",
    "Below we create a variable with the name 'greeting' and the value 'Hello World' using a '=' between them. Note that the name is always on the left hand side and the value on the right. We then move on to make some more variables and illustrate behaviour"
   ]
  },
  {
   "cell_type": "code",
   "execution_count": 1,
   "metadata": {},
   "outputs": [
    {
     "name": "stdout",
     "output_type": "stream",
     "text": [
      "Hello World\n"
     ]
    }
   ],
   "source": [
    "greeting = 'Hello World'\n",
    "print(greeting)"
   ]
  },
  {
   "cell_type": "code",
   "execution_count": 2,
   "metadata": {},
   "outputs": [],
   "source": [
    "# Types"
   ]
  },
  {
   "cell_type": "code",
   "execution_count": 3,
   "metadata": {},
   "outputs": [],
   "source": [
    "# Setting variables with other variables"
   ]
  },
  {
   "cell_type": "markdown",
   "metadata": {},
   "source": [
    "# Data structures\n",
    "Often we want to be able to access certain variables together, either for looping (see below) or for organisation. For this we put our variables into data structures, below is a short list of some of these structures and what they are used for\n",
    "\n",
    "## Lists `[element1, element2]`\n",
    "A list is an ordered structure that contains elements. Each element can be accessed by its position, or index, in the list.  \n",
    "\n",
    "`myList = ['Hello', 'World']`  \n",
    "\n",
    "The above list has two string elements and I access them by calling the list with [].  \n",
    "\n",
    "`myList[0]`       Gives `'Hello'`  \n",
    "`myList[1]`       Gives `'World'`  \n",
    "\n",
    "Note that indicies for lists start at 0. You can also use negative indicies to look at the end of the list.  \n",
    "\n",
    "`myList[-1]`        Gives `'World'` (the last element in the list)  \n",
    "`myList[-2]`        Gives `'Hello'` (the second to last element in the list)  \n",
    "\n",
    "Lists are mutable, which means that they can be changed after being created. Methods such as .pop() and .append(), which allows you to remove and add objects to the list demonstrate this."
   ]
  },
  {
   "cell_type": "code",
   "execution_count": null,
   "metadata": {},
   "outputs": [],
   "source": []
  },
  {
   "cell_type": "markdown",
   "metadata": {},
   "source": [
    "## Tuples `(element1, element2)`\n",
    "Tuples are similar to lists in that they are indexed in the same way. However, tuples are immutable which means that once created they cannot be changed. The first element in the tuple will always be the same."
   ]
  },
  {
   "cell_type": "code",
   "execution_count": null,
   "metadata": {},
   "outputs": [],
   "source": []
  },
  {
   "cell_type": "markdown",
   "metadata": {},
   "source": [
    "## Dictionaries `{'keyname1':value1, 'keyname2': value2}`  \n",
    "Dictionaries are unordered, this means that you cannot access a value in the list by its position - it doesn't have one! Instead you access a value by a key:  \n",
    "\n",
    "`myCourseDict = {'participants': [list containing registration numbers], 'gradeScale': 'PassFail', 'teachers': ['Johan', 'Margit', 'Ludvig']}`\n",
    "\n",
    "myCourseDict contains information about this course, if I want to know what the grading scale of the course is I can call `myCourseDict['gradeScale']` and I will get the string `'PassFail'` telling me that the course is pass or fail. Similarly if I want to know who the participants are I can call `myCourseDict['participants']`. Dictionaries are used to structure information and is somewhat similar to a data table, imagine a dictionary where each key has a list of the same length. The keynames are the names of the columns and list is the values in the columns. "
   ]
  },
  {
   "cell_type": "code",
   "execution_count": null,
   "metadata": {},
   "outputs": [],
   "source": []
  },
  {
   "cell_type": "markdown",
   "metadata": {},
   "source": [
    "## NumPy arrays (package)\n",
    "NumPy arrays are similar to lists but faster to work with. An array can have arbitrary dimension, 1 dimension is like a list or a vector, 2 dimensions give you a matrix. You can access values in an array similarly as with lists:\n",
    "\n",
    "1 dimension: `myArray[0]` gives the first element in the array  \n",
    "2 dimensions: `myArray[0][1]` gives the element in the first row and the second column"
   ]
  },
  {
   "cell_type": "code",
   "execution_count": null,
   "metadata": {},
   "outputs": [],
   "source": []
  },
  {
   "cell_type": "markdown",
   "metadata": {},
   "source": [
    "## Pandas DataFrame (package)\n",
    "A pandas DataFrame is similar to a 2d array but where each column has a name that can be used to call the column. If you have any experience with R, the DataFrames there work in a very similar way. Documentation: https://pandas.pydata.org/docs/reference/frame.html "
   ]
  },
  {
   "cell_type": "code",
   "execution_count": null,
   "metadata": {},
   "outputs": [],
   "source": []
  },
  {
   "cell_type": "markdown",
   "metadata": {},
   "source": [
    "# Conditions and loops\n",
    "In this section we are going to learn about condition blocks (if, elsif and else) and loops (while and for)\n",
    "\n",
    "## Conditions\n",
    "Sometimes we only want certain code to run if a condition is met, this is common across many programmes and most of you have used it in excel already. While the basic idea is the same in Python - the implemenation is slightly different and much more flexible."
   ]
  },
  {
   "cell_type": "code",
   "execution_count": null,
   "metadata": {},
   "outputs": [],
   "source": [
    "if True:\n",
    "    print('Hello World')"
   ]
  },
  {
   "cell_type": "markdown",
   "metadata": {},
   "source": [
    "## Loops\n",
    "Often we want to do the same computation many times over, instead of writing the same code again and again we can use loops to make iterations of the same code.\n",
    "There are two loops in Python, while and for. The while loops does not have a set number of loops - instead it continues until a condition is broken (returns False). The more often used for loop iterates a specific number of times, where we have to tell it what to iterate over. The data structures we mentioned above can all be iterated over in different ways"
   ]
  },
  {
   "cell_type": "code",
   "execution_count": null,
   "metadata": {},
   "outputs": [],
   "source": [
    "while True:\n",
    "    # Do something an infinite amount of time or until break encountered\n",
    "\n",
    "counter = 0\n",
    "while counter < 10:\n",
    "    print(counter)\n",
    "    counter += 1\n",
    "\n",
    "for i in range(10):\n",
    "    print(i)\n"
   ]
  },
  {
   "cell_type": "markdown",
   "metadata": {},
   "source": [
    "### List comprehension\n",
    "List comprehension is a Python-esque concept which allows you to use loops to create data structures in one line"
   ]
  },
  {
   "cell_type": "code",
   "execution_count": 4,
   "metadata": {},
   "outputs": [
    {
     "name": "stdout",
     "output_type": "stream",
     "text": [
      "List containing integers 0 to 9: [0, 1, 2, 3, 4, 5, 6, 7, 8, 9]\n",
      "List containing integers 0 to 9 twice: [0, 2, 4, 6, 8, 10, 12, 14, 16, 18]\n",
      "List containing two lists of integers 0 to 9: [[0, 1, 2, 3, 4, 5, 6, 7, 8, 9], [0, 1, 2, 3, 4, 5, 6, 7, 8, 9]]\n"
     ]
    }
   ],
   "source": [
    "zeroToNine = [i for i in range(10)]\n",
    "zeroToNineDouble = [i*2 for i in range(10)]\n",
    "nestledComprehension = [[i for i in range(10)] for _ in range(2)]\n",
    "\n",
    "print('List containing integers 0 to 9:', zeroToNine)\n",
    "print('List containing integers 0 to 9 each multiplied by 2:', zeroToNineDouble)\n",
    "print('List containing two lists of integers 0 to 9:', nestledComprehension)"
   ]
  },
  {
   "cell_type": "markdown",
   "metadata": {},
   "source": [
    "List comprension is useful when working in pandas since it allows you to create a new variable by looping over an old one and making changes to it.  \n",
    "More on this below"
   ]
  },
  {
   "cell_type": "markdown",
   "metadata": {},
   "source": [
    "# Functions\n",
    "When we have written code that we want to be able to use at diffent places in our code, we put that code into a function. This allows us to call the function wherever we want (provided that it is defined in the current file or imported). However, there are already some builtin functions in Python which we have seen above (print() for example). A guide to how to use these functions can be found in the docs mentioned above. When we define a function we also have to be wary of indedentation (like with conditions and loops)."
   ]
  },
  {
   "cell_type": "code",
   "execution_count": 4,
   "metadata": {},
   "outputs": [
    {
     "name": "stdout",
     "output_type": "stream",
     "text": [
      "Hello World!\n"
     ]
    }
   ],
   "source": [
    "def greeting():\n",
    "    print('Hello World!')\n",
    "\n",
    "greeting()"
   ]
  },
  {
   "cell_type": "markdown",
   "metadata": {},
   "source": [
    "## Decorators\n",
    "Decorators is a more advanced concept which allows you to wrap logic around a function"
   ]
  },
  {
   "cell_type": "code",
   "execution_count": 20,
   "metadata": {},
   "outputs": [
    {
     "name": "stdout",
     "output_type": "stream",
     "text": [
      "Function executed in: 5.003155946731567\n",
      "Function executed in: 0.5030257701873779\n"
     ]
    }
   ],
   "source": [
    "import time\n",
    "\n",
    "def timing_decorator(function):\n",
    "    def performance(*args, **kwargs):\n",
    "        before = time.time()\n",
    "        output = function(*args, **kwargs)\n",
    "        after = time.time()\n",
    "        print('Function executed in:',after - before)\n",
    "        return output\n",
    "    return performance\n",
    "\n",
    "\n",
    "@timing_decorator\n",
    "def largeFunction(input):\n",
    "    # Simulate operations on input\n",
    "    time.sleep(5)\n",
    "    return input\n",
    "\n",
    "\n",
    "@timing_decorator\n",
    "def smallerFunction(input):\n",
    "    # Simulate smaller operations on input\n",
    "    time.sleep(0.5)\n",
    "    return input\n",
    "\n",
    "\n",
    "output = largeFunction('data')\n",
    "output2 = smallerFunction('data')"
   ]
  },
  {
   "cell_type": "markdown",
   "metadata": {},
   "source": [
    "# Packages\n",
    "Importing packages allows us to use code that have been written by other coders - this ease of sharing code is what makes programming so powerful and what will allow us to implement machine learning without too much background knowledge required. Packages are often maintained by communities of coders for free. Rather than charging for using packages, developers maintain and upgrade them for free while leveraging the credibility this gives them as coders to find high paying jobs.\n",
    "\n",
    "## Importing packages\n",
    "We import packages with the import statement however we have to first download those packages using pip\n",
    "\n",
    "The packages that we are going to be looking at here is pandas and matplotlib, where the first is used for data processing and the second for data visualisation."
   ]
  },
  {
   "cell_type": "code",
   "execution_count": null,
   "metadata": {},
   "outputs": [],
   "source": [
    "import numpy as np\n",
    "\n",
    "# Create arrays of zeros, call values\n",
    "# Create arrays of ones, call values\n",
    "# Multiply arrays\n",
    "# Loop through arrays"
   ]
  },
  {
   "cell_type": "markdown",
   "metadata": {},
   "source": [
    "# Git and Github\n",
    "Git is an open source projekt for sharing code and doing version control. This is done by having an online repository (or repo) in addition to your local code. The goal of version control is to make sure that a projekt always has a stable state to get back to when making changes. It is used by most programming teams around the world. Github is a service that allows you to save your code in the cloud and have multiple people working on the project locally at the same time. Git is the system for implementing local changes to the online code. Github was purchased by Microsoft in 2018 for 7.5 billion dollars - together with the acquistion of LinkedIn in 2016 (for 26.2 billion dollars) Microsoft now has access to a large portion of the worlds code and proffesional networks. Think about this when you hear the term FANG (Facebook, Amazon, Netflix, Google).\n",
    "\n",
    "## Clone\n",
    "The only github command that we are going to be using is git clone. This is because the other commands requires you to set up an ssh key which we dont have time for.  \n",
    "git clone allows you to copy a repository on github onto your local hard drive - allowing you to make changes to the project.\n",
    "\n",
    "## Pull\n",
    "The basic version control operations in git is called pull and push. Pulling checks for changes in the online repository since your last pull. If changes are detected pull attempts to download and merge the changes with the version of the code that is on your machine. If good practices are followed (such as people only working in different files) this usually goes smoothly. Once the changes have been merged into your local repo, it is time to push.\n",
    "\n",
    "## Push\n",
    "Pushing attempts to merge the local changes that you have made to the code onto the online repo. It is very important that you pull before you push - otherwise you will likely get an error. Pulling and pushing correctly allows multiple people to work on the code locally while updating the online repository.\n",
    "\n",
    "## Notes\n",
    "Git is used from the command line and not in the Python code itself. In fact git does not care what language your files are in - it is only responsible for keeping the files up to date and in sync."
   ]
  },
  {
   "cell_type": "markdown",
   "metadata": {},
   "source": [
    "# Conclusion\n",
    "Now that we have an overview of programming with Python is done we are going to utilise this knowledge to create a neural network used to predict tomorrows stock price for any stock. In the assignment you will be able to use pre-written functions but using those functions will be up to you."
   ]
  }
 ],
 "metadata": {
  "kernelspec": {
   "display_name": "Python 3.7.4 64-bit",
   "language": "python",
   "name": "python37464bitd863a529c1fa4d128753e3d722b9a701"
  },
  "language_info": {
   "codemirror_mode": {
    "name": "ipython",
    "version": 3
   },
   "file_extension": ".py",
   "mimetype": "text/x-python",
   "name": "python",
   "nbconvert_exporter": "python",
   "pygments_lexer": "ipython3",
   "version": "3.7.4"
  }
 },
 "nbformat": 4,
 "nbformat_minor": 2
}
